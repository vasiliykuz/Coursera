{
 "cells": [
  {
   "cell_type": "markdown",
   "metadata": {},
   "source": [
    "## Практическая работа 1"
   ]
  },
  {
   "cell_type": "markdown",
   "metadata": {},
   "source": [
    "### Задание 1. Сравнение предложений\n",
    "\n",
    "Дан набор предложений из Википедии. Каждое из них имеет \"дистанционную\" тему в одном из трех смыслов:\n",
    "\n",
    "- дистанционное управление\n",
    "- программы удаленного доступа\n",
    "- дистанционное зондирование Земли\n",
    "\n",
    "Ваша задача — найти два предложения, которые ближе всего по смыслу к расположенному в первой строке. В качестве меры близости используйте косинусное расстояние (не путать с косинусной мерой или косинусным сходством).\n",
    "\n",
    "Фактически требуется создать матрицу Объекты х Признаки:\n",
    "\n",
    "1.\tСкачайте файл с предложениями (practice_1_sentences.txt) и считайте из него текст, учитывая, что каждая строка в файле соответствует одному предложению.\n",
    "2.\tПриведите текст к нижнему регистру с помощью строковой функции `lower()`.\n",
    "3.\tПроизведите токенизацию, то есть разбиение текстов на слова. Для этого можно воспользоваться регулярным выражением, которое считает разделителем любой символ, не являющийся буквой: `re.split('[^a-z]', line)`. Не забудьте предварительно импортировать пакет `re`. После разделения могут возникнуть пустые строки, их необходимо удалить.\n",
    "4.\tСоставьте список всех слов, встречающихся в предложениях. Сопоставьте каждому слову индекс от `0` до `(d - 1)`, где `d` — число различных слов в предложениях (воспользуйтесь `dict`).\n",
    "5.\tСоздайте матрицу размера `n x d`, где `n` — число предложений. Заполните ее: элемент с индексом `(i, j)` в этой матрице должен быть равен количеству вхождений `j`-го слова в `i`-е предложение. У вас должна получиться матрица размера `22 x 225`.\n",
    "6.\tНайдите косинусное расстояние от предложения в самой первой строке (\"Remote sensing is the acquisition …\") до всех остальных с помощью функции `scipy.spatial.distance.cosine`. Какие номера у двух предложений, ближайших к нему по этому расстоянию (строки нумеруются с нуля)? Эти два числа и будут ответами на задание. Само предложение (\"Remote sensing is the acquisition …\") имеет индекс `0`. \n",
    "\n",
    "Задача сугубо учебная, а предложенный метод крайне простой. Он не учитывает, например, формы слов (так, \"sensor\" и \"sensors\" он считает разными словами, хотя, по сути, они означают одно и то же), не удаляет из текстов артикли и прочие ненужные слова.\n"
   ]
  },
  {
   "cell_type": "code",
   "execution_count": 8,
   "metadata": {},
   "outputs": [
    {
     "name": "stdout",
     "output_type": "stream",
     "text": [
      "(22, 225)\n",
      "1 0.7333333333333334\n",
      "2 0.7432819845948648\n",
      "3 0.7916666666666667\n",
      "4 0.8716999401800831\n",
      "5 0.7754748953151456\n",
      "6 0.5739935663848708\n",
      "7 0.7250140295385649\n",
      "8 0.7427521222862368\n",
      "9 0.6225743219518014\n",
      "10 0.6732679803934644\n",
      "11 0.8994962184740788\n",
      "12 0.9109129193625252\n",
      "13 0.7418011102528388\n",
      "14 0.8088202217745318\n",
      "15 0.6755571577384749\n",
      "16 0.7113248654051871\n",
      "17 0.7919874264155391\n",
      "18 0.7226499018873854\n",
      "19 0.7989924369481576\n",
      "20 0.8613249509436927\n",
      "21 0.757464374963667\n",
      "6 ['in', 'current', 'usage', 'the', 'term', 'remote', 'sensing', 'generally', 'refers', 'to', 'the', 'use', 'of', 'satellite', 'or', 'aircraft', 'based', 'sensor', 'technologies', 'to', 'detect', 'and', 'classify', 'objects', 'on', 'earth']\n",
      "9 ['it', 'may', 'be', 'split', 'into', 'active', 'remote', 'sensing', 'when', 'a', 'signal', 'is', 'emitted', 'by', 'a', 'satellite', 'or', 'aircraft', 'to', 'the', 'object', 'and', 'its', 'reflection', 'detected', 'by', 'the', 'sensor', 'and', 'passive', 'remote', 'sensing', 'when', 'the', 'reflection', 'of', 'sunlight', 'is', 'detected', 'by', 'the', 'sensor']\n"
     ]
    }
   ],
   "source": [
    "import re \n",
    "import numpy as np\n",
    "import sys\n",
    "from scipy.spatial import distance\n",
    "\n",
    "file_obj = open('practice_1_sentences.txt', 'r')\n",
    "lines = file_obj.readlines()\n",
    "\n",
    "sentences = []\n",
    "for line in lines:\n",
    "    line = line.lower()\n",
    "    line = line.strip()\n",
    "    words_in_line = re.split('[^a-z]', line)\n",
    "    \n",
    "    words_in_line = ' '.join(words_in_line).split() \n",
    "    sentences.append(words_in_line)\n",
    "    \n",
    "all_words = []\n",
    "for sentence in sentences:\n",
    "    all_words += sentence\n",
    "\n",
    "unique_words = list(set(all_words))\n",
    "\n",
    "matrix = np.zeros((len(sentences), len(unique_words)))\n",
    "print(matrix.shape)\n",
    "for i in range(len(sentences)):\n",
    "    for j in range(len(unique_words)):\n",
    "        c = sentences[i].count(unique_words[j])\n",
    "        matrix[i][j] = c\n",
    "\n",
    "distances = []\n",
    "for i in range(1, len(matrix)):\n",
    "    print(i, distance.cosine(matrix[0], matrix[i]))\n",
    "    distances.append(distance.cosine(matrix[0], matrix[i]))\n",
    "    \n",
    "\n",
    "def second_smallest(numbers):\n",
    "    m1, m2 = float('inf'), float('inf')\n",
    "    for x in numbers:\n",
    "        if x <= m1:\n",
    "            m1, m2 = x, m1\n",
    "        elif x < m2:\n",
    "            m2 = x\n",
    "    return m2\n",
    "\n",
    "min_idx = distances.index(min(distances)) + 1\n",
    "second_min_idx = distances.index(second_smallest(distances)) + 1\n",
    "\n",
    "print(min_idx, sentences[min_idx])\n",
    "print(second_min_idx, sentences[second_min_idx])\n",
    "\n",
    "file_obj.close()"
   ]
  },
  {
   "cell_type": "markdown",
   "metadata": {},
   "source": [
    "### Задание 2. Аппроксимация функции\n",
    "\n",
    "Рассмотрим математическую функцию на отрезке `[1, 12]`:\n",
    "\n",
    "`f(x) = 4.2 * cos((x - 1) * pi / 6) + 13.7`\n",
    "\n",
    "Данная функция описывает колебания среднемесячной температуры в Веллингтоне (столица Новой Зеландии). \n",
    "\n",
    "По сути, задача машинного обучения состоит в том, чтобы приблизить сложную зависимость с помощью функции из определенного семейства. В этом задании вы будете приближать указанную функцию с помощью многочленов.\n",
    "\n",
    "Как известно, многочлен степени `n` (то есть `w_0 + w_1 * x + w_2 * x ** 2 + ... + w_n * x ** n`) однозначно определяется любыми `n + 1` различными точками, через которые он проходит. Это значит, что его коэффициенты `w_0, ..., w_n` можно определить из системы линейных уравнений.\n",
    "\n",
    "Воспользуйтесь описанным свойством, и найдите приближение функции многочленом, решая систему линейных уравнений:\n",
    "\n",
    "1. Сформируйте систему линейных уравнений (то есть задайте матрицу коэффициентов и свободный вектор) для многочлена первой степени, который должен совпадать с функцией `f` в двух, выбранных вами точках. \n",
    "2. Решите данную систему с помощью функции `scipy.linalg.solve`. \n",
    "3. Нарисуйте функцию `f` и полученный многочлен. Хорошо ли он приближает исходную функцию?\n",
    "4. Повторите те же шаги для многочлена второй степени, который совпадает с функцией `f` в трех точках. Улучшилось ли качество аппроксимации?\n",
    "5. Повторите те же шаги для многочлена третьей степени, который совпадает с функцией `f` в четырех точках. Хорошо ли он аппроксимирует функцию? "
   ]
  },
  {
   "cell_type": "code",
   "execution_count": 2,
   "metadata": {},
   "outputs": [],
   "source": [
    "def f(x):\n",
    "    return 4.2 * np.cos((x - 1) * np.pi / 6) + 13.7"
   ]
  },
  {
   "cell_type": "code",
   "execution_count": 3,
   "metadata": {},
   "outputs": [
    {
     "data": {
      "image/png": "[encoded data removed]",
      "text/plain": [
       "<Figure size 432x288 with 1 Axes>"
      ]
     },
     "metadata": {
      "needs_background": "light"
     },
     "output_type": "display_data"
    }
   ],
   "source": [
    "%matplotlib inline\n",
    "from matplotlib import pylab as plt\n",
    "\n",
    "x_0 = np.arange(1, 12, 0.1)\n",
    "y_0 = list(map(f, x_0))\n",
    "plt.plot(x_0, y_0)\n",
    "plt.show()"
   ]
  },
  {
   "cell_type": "code",
   "execution_count": 4,
   "metadata": {},
   "outputs": [
    {
     "name": "stdout",
     "output_type": "stream",
     "text": [
      "[17.95115394 -0.05115394]\n"
     ]
    }
   ],
   "source": [
    "x1, x2 = 1, 12\n",
    "a = np.array([[1, x1], [1, x2]])\n",
    "b = np.array([f(x1), f(x2)])\n",
    "x_1 = np.linalg.solve(a, b)\n",
    "print(x_1)"
   ]
  },
  {
   "cell_type": "code",
   "execution_count": 5,
   "metadata": {},
   "outputs": [],
   "source": [
    "def f_1(x):\n",
    "    return x_1[0] + x_1[1]*x"
   ]
  },
  {
   "cell_type": "code",
   "execution_count": 6,
   "metadata": {},
   "outputs": [
    {
     "data": {
      "image/png": "[encoded data removed]",
      "text/plain": [
       "<Figure size 432x288 with 1 Axes>"
      ]
     },
     "metadata": {
      "needs_background": "light"
     },
     "output_type": "display_data"
    }
   ],
   "source": [
    "y_1 = list(map(f_1, x_0))\n",
    "plt.plot(x_0, y_1)\n",
    "plt.show()"
   ]
  },
  {
   "cell_type": "code",
   "execution_count": 7,
   "metadata": {},
   "outputs": [
    {
     "name": "stdout",
     "output_type": "stream",
     "text": [
      "[21.18838449 -3.5581537   0.26976921]\n"
     ]
    }
   ],
   "source": [
    "x1, x2, x3 = 1, 7, 12\n",
    "a = np.array([[1, x1, x1**2], [1, x2, x2**2], [1, x3, x3**2]])\n",
    "b = np.array([f(x1), f(x2), f(x3)])\n",
    "x_2 = np.linalg.solve(a, b)\n",
    "print(x_2)"
   ]
  },
  {
   "cell_type": "code",
   "execution_count": 8,
   "metadata": {},
   "outputs": [],
   "source": [
    "def f_2(x):\n",
    "    return x_2[0] + x_2[1]*x + x_2[2]*(x**2)"
   ]
  },
  {
   "cell_type": "code",
   "execution_count": 9,
   "metadata": {},
   "outputs": [
    {
     "data": {
      "image/png": "[encoded data removed]",
      "text/plain": [
       "<Figure size 432x288 with 1 Axes>"
      ]
     },
     "metadata": {
      "needs_background": "light"
     },
     "output_type": "display_data"
    }
   ],
   "source": [
    "y_2 = list(map(f_2, x_0))\n",
    "plt.plot(x_0, y_2)\n",
    "plt.show()"
   ]
  },
  {
   "cell_type": "code",
   "execution_count": 10,
   "metadata": {},
   "outputs": [
    {
     "name": "stdout",
     "output_type": "stream",
     "text": [
      "[17.51564785  0.94532098 -0.60469189  0.04372306]\n"
     ]
    }
   ],
   "source": [
    "x1, x2, x3, x4 = 1, 2, 7, 12\n",
    "a = np.array([[1, x1, x1**2, x1**3], [1, x2, x2**2, x2**3], [1, x3, x3**2, x3**3], [1, x4, x4**2, x4**3]])\n",
    "b = np.array([f(x1), f(x2), f(x3), f(x4)])\n",
    "x_3 = np.linalg.solve(a, b)\n",
    "print(x_3)"
   ]
  },
  {
   "cell_type": "code",
   "execution_count": 11,
   "metadata": {},
   "outputs": [],
   "source": [
    "def f_3(x):\n",
    "    return x_3[0] + x_3[1]*x + x_3[2]*(x**2) + x_3[3]*(x**3)"
   ]
  },
  {
   "cell_type": "code",
   "execution_count": 12,
   "metadata": {},
   "outputs": [
    {
     "data": {
      "image/png": "[encoded data removed]",
      "text/plain": [
       "<Figure size 432x288 with 1 Axes>"
      ]
     },
     "metadata": {
      "needs_background": "light"
     },
     "output_type": "display_data"
    }
   ],
   "source": [
    "y_3 = list(map(f_3, x_0))\n",
    "plt.plot(x_0, y_3)\n",
    "plt.show()"
   ]
  },
  {
   "cell_type": "code",
   "execution_count": null,
   "metadata": {},
   "outputs": [],
   "source": []
  }
 ],
 "metadata": {
  "kernelspec": {
   "display_name": "Python 3",
   "language": "python",
   "name": "python3"
  },
  "language_info": {
   "codemirror_mode": {
    "name": "ipython",
    "version": 3
   },
   "file_extension": ".py",
   "mimetype": "text/x-python",
   "name": "python",
   "nbconvert_exporter": "python",
   "pygments_lexer": "ipython3",
   "version": "3.8.8"
  }
 },
 "nbformat": 4,
 "nbformat_minor": 4
}
