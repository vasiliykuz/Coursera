{
 "cells": [
  {
   "cell_type": "markdown",
   "metadata": {},
   "source": [
    "## Практическая работа 2"
   ]
  },
  {
   "cell_type": "markdown",
   "metadata": {},
   "source": [
    "### Задание 1. Минимизация гладкой функции\n",
    "\n",
    "Рассмотрим все ту же функцию из задания по линейной алгебре, но немного видоизменим ее для демонстрации: \n",
    "\n",
    "`f(x) = 4.2 * cos((x - 1) * pi / 6) * np.exp(x / 100.) + 13.7`\n",
    "\n",
    "В первом задании вам необходимо найти минимум этой функции на промежутке с помощью `scipy.optimize`. \n",
    "\n",
    "1. Напишите на Питоне функцию, вычисляющую значение `f(x)` по известному `x`.\n",
    "2. Попробуйте найти минимум, используя стандартные параметры функции `scipy.optimize.minimize` (т.е. задав только функцию и начальное приближение). \n",
    "3. Попробуйте менять начальное приближение и изучить, меняется ли результат.\n",
    "4. Укажите в `scipy.optimize.minimize` в качестве метода `BFGS` (один из самых точных в большинстве случаев градиентных методов оптимизации), запустите из начального приближения `x = -50`. Градиент функции при этом указывать не нужно – он будет оценен численно. Теперь измените начальное приближение на `x = 50`.\n",
    "\n",
    "Почему ответ отличается в зависимости от начального приближения?"
   ]
  },
  {
   "cell_type": "code",
   "execution_count": 47,
   "metadata": {},
   "outputs": [
    {
     "name": "stdout",
     "output_type": "stream",
     "text": [
      "Grad \n",
      "       fun: 9.704107764481353\n",
      " hess_inv: array([[0.91359742]])\n",
      "      jac: array([0.])\n",
      "  message: 'Optimization terminated successfully.'\n",
      "     nfev: 12\n",
      "      nit: 3\n",
      "     njev: 6\n",
      "   status: 0\n",
      "  success: True\n",
      "        x: array([-4.96352874])\n",
      "BFGS x = -50\n",
      "       fun: 11.227408249213955\n",
      " hess_inv: array([[1.47413926]])\n",
      "      jac: array([0.])\n",
      "  message: 'Optimization terminated successfully.'\n",
      "     nfev: 12\n",
      "      nit: 5\n",
      "     njev: 6\n",
      "   status: 0\n",
      "  success: True\n",
      "        x: array([-52.96352896])\n",
      "BFGS x = 50\n",
      "       fun: 6.419009633327943\n",
      " hess_inv: array([[2.83721598]])\n",
      "      jac: array([1.90734863e-06])\n",
      "  message: 'Optimization terminated successfully.'\n",
      "     nfev: 10\n",
      "      nit: 2\n",
      "     njev: 5\n",
      "   status: 0\n",
      "  success: True\n",
      "        x: array([55.03647216])\n"
     ]
    }
   ],
   "source": [
    "import numpy as np\n",
    "from scipy.optimize import minimize\n",
    "\n",
    "def f(x):\n",
    "    return 4.2 * np.cos((x - 1) * np.pi / 6) * np.exp(x / 100.) + 13.7\n",
    "\n",
    "x = np.arange(-5, 5, 0.1)\n",
    "print('Grad \\n', minimize(f, 0))\n",
    "print('BFGS x = -50\\n', minimize(f, -50, method = 'BFGS'))\n",
    "print('BFGS x = 50\\n', minimize(f, 50, method = 'BFGS'))\n"
   ]
  },
  {
   "cell_type": "markdown",
   "metadata": {},
   "source": [
    "### Задание 2. Дифференциальная эволюция\n",
    "\n",
    "Теперь попробуйте применить к той же функции `f(x)` [метод дифференциальной эволюции](https://docs.scipy.org/doc/scipy/reference/generated/scipy.optimize.differential_evolution.html).\n",
    "\n",
    "Обратите внимание, что границы значений аргументов функции представляют собой список кортежей. Даже если у вас функция одного аргумента, вложите его в список, т.к. в реализации `scipy.optimize.differential_evolution` длина этого списка используется для определения числа аргументов функции.\n",
    "\n",
    "1. Запустите поиск минимума функции `f(x)` с помощью дифференциальной эволюции на промежутке `[-50, 50]`.\n",
    "2. Сравните количество итераций BFGS для нахождения минимума, с количеством итераций дифференциальной эволюции (при повторных запусках число итераций может меняться). \n",
    "\n",
    "Учтите, что в дифференциальной эволюции за одну итерацию требуется выполнить гораздо больше действий, чем в BFGS. Например, можно обратить внимание на количество вычислений значения функции (`nfev`). Кроме того, время работы дифференциальной эволюции растет с увеличением числа аргументов функции."
   ]
  },
  {
   "cell_type": "code",
   "execution_count": null,
   "metadata": {},
   "outputs": [],
   "source": [
    "def f(x):\n",
    "    return 4.2 * np.cos((x - 1) * np.pi / 6) * np.exp(x / 100.) + 13.7"
   ]
  },
  {
   "cell_type": "code",
   "execution_count": 31,
   "metadata": {},
   "outputs": [
    {
     "name": "stdout",
     "output_type": "stream",
     "text": [
      "     fun: array([7.24234084])\n",
      "     jac: array([-1.77635669e-07])\n",
      " message: 'Optimization terminated successfully.'\n",
      "    nfev: 126\n",
      "     nit: 7\n",
      " success: True\n",
      "       x: array([43.03647111])\n"
     ]
    }
   ],
   "source": [
    "from scipy.optimize import differential_evolution\n",
    "\n",
    "\n",
    "#x = np.arange(-50, 50, 0.5)\n",
    "#y = [lambda x: f(x)]\n",
    "\n",
    "print(differential_evolution(f, ((-50, 50),)))"
   ]
  },
  {
   "cell_type": "markdown",
   "metadata": {},
   "source": [
    "### Задание 3. Минимизация негладкой функции\n",
    "\n",
    "Теперь рассмотрим функцию `h(x) = int(f(x))` на том же отрезке `[-50, 50]`, т.е. теперь каждое значение `f(x)` приводится к типу `int` и функция принимает только целые значения.\n",
    "Такая функция будет негладкой, а ее график будет иметь ступенчатый вид. \n",
    "\n",
    "1. Постройте график `h(x)`.\n",
    "2. Найдите минимум функции `h(x)` с помощью BFGS, взяв в качестве начального приближения `x = 50`.\n",
    "3. Теперь найдите минимум `h(x)` на отрезке `[-50, 50]` с помощью дифференциальной эволюции.\n",
    "\n",
    "Почему минимум, найденный BFGS, именно такой?"
   ]
  },
  {
   "cell_type": "code",
   "execution_count": 53,
   "metadata": {},
   "outputs": [],
   "source": [
    "def f(x):\n",
    "    return np.int32(4.2 * np.cos((x - 1) * np.pi / 6) * np.exp(x / 100.) + 13.7)"
   ]
  },
  {
   "cell_type": "code",
   "execution_count": 55,
   "metadata": {},
   "outputs": [
    {
     "name": "stdout",
     "output_type": "stream",
     "text": [
      "      fun: 19\n",
      " hess_inv: array([[1]])\n",
      "      jac: array([0.])\n",
      "  message: 'Optimization terminated successfully.'\n",
      "     nfev: 2\n",
      "      nit: 0\n",
      "     njev: 1\n",
      "   status: 0\n",
      "  success: True\n",
      "        x: array([48.])\n"
     ]
    },
    {
     "data": {
      "image/png": "[encoded data removed]",
      "text/plain": [
       "<Figure size 432x288 with 1 Axes>"
      ]
     },
     "metadata": {
      "needs_background": "light"
     },
     "output_type": "display_data"
    }
   ],
   "source": [
    "%matplotlib inline\n",
    "import matplotlib.pyplot as plt\n",
    "from scipy.optimize import minimize\n",
    "\n",
    "x = np.linspace(45, 60)\n",
    "plt.plot(x, np.int32(f(x)))\n",
    "\n",
    "print(minimize(f, 48, method = 'BFGS'))"
   ]
  },
  {
   "cell_type": "code",
   "execution_count": 45,
   "metadata": {},
   "outputs": [
    {
     "name": "stdout",
     "output_type": "stream",
     "text": [
      "     fun: 7.0\n",
      " message: 'Optimization terminated successfully.'\n",
      "    nfev: 167\n",
      "     nit: 10\n",
      " success: True\n",
      "       x: array([42.39947034])\n"
     ]
    }
   ],
   "source": [
    "from scipy.optimize import differential_evolution\n",
    "\n",
    "\n",
    "print(differential_evolution(f, ((-50, 50),)))"
   ]
  }
 ],
 "metadata": {
  "kernelspec": {
   "display_name": "Python 3",
   "language": "python",
   "name": "python3"
  },
  "language_info": {
   "codemirror_mode": {
    "name": "ipython",
    "version": 3
   },
   "file_extension": ".py",
   "mimetype": "text/x-python",
   "name": "python",
   "nbconvert_exporter": "python",
   "pygments_lexer": "ipython3",
   "version": "3.8.8"
  }
 },
 "nbformat": 4,
 "nbformat_minor": 5
}
