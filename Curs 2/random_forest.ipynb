{
 "cells": [
  {
   "cell_type": "code",
   "execution_count": 16,
   "metadata": {
    "executionInfo": {
     "elapsed": 250,
     "status": "ok",
     "timestamp": 1648111605569,
     "user": {
      "displayName": "Василий Кузьмин",
      "photoUrl": "https://lh3.googleusercontent.com/a/default-user=s64",
      "userId": "02945525003160478585"
     },
     "user_tz": -180
    },
    "id": "n8W577QUGOKi"
   },
   "outputs": [],
   "source": [
    "from sklearn import datasets, model_selection, tree, ensemble\n",
    "import matplotlib.pyplot as plt\n",
    "import numpy as np"
   ]
  },
  {
   "cell_type": "code",
   "execution_count": 17,
   "metadata": {
    "colab": {
     "base_uri": "https://localhost:8080/"
    },
    "executionInfo": {
     "elapsed": 344,
     "status": "ok",
     "timestamp": 1648111606273,
     "user": {
      "displayName": "Василий Кузьмин",
      "photoUrl": "https://lh3.googleusercontent.com/a/default-user=s64",
      "userId": "02945525003160478585"
     },
     "user_tz": -180
    },
    "id": "MygpeUliHr9J",
    "outputId": "4bb31af7-8fdb-4c24-ce14-c4473b12d50e"
   },
   "outputs": [
    {
     "name": "stdout",
     "output_type": "stream",
     "text": [
      "0.8241154562383614\n"
     ]
    }
   ],
   "source": [
    "digits = datasets.load_digits()\n",
    "X = digits.data\n",
    "y = digits.target\n",
    "\n",
    "scores_dtc = model_selection.cross_val_score(tree.DecisionTreeClassifier(random_state=1), X, y, cv=10)\n",
    "print(scores_dtc.mean())"
   ]
  },
  {
   "cell_type": "code",
   "execution_count": 18,
   "metadata": {
    "colab": {
     "base_uri": "https://localhost:8080/"
    },
    "executionInfo": {
     "elapsed": 14318,
     "status": "ok",
     "timestamp": 1648111620587,
     "user": {
      "displayName": "Василий Кузьмин",
      "photoUrl": "https://lh3.googleusercontent.com/a/default-user=s64",
      "userId": "02945525003160478585"
     },
     "user_tz": -180
    },
    "id": "7c7R08HGOYN6",
    "outputId": "411d3d86-12ef-4ff5-d564-d232c1f892f1"
   },
   "outputs": [
    {
     "name": "stdout",
     "output_type": "stream",
     "text": [
      "0.922054624456859\n"
     ]
    }
   ],
   "source": [
    "bagging_classifier = ensemble.BaggingClassifier(tree.DecisionTreeClassifier(random_state=1), 100, random_state=1)\n",
    "scores_bag_class = model_selection.cross_val_score(bagging_classifier, X, y, cv=10)\n",
    "print(scores_bag_class.mean())"
   ]
  },
  {
   "cell_type": "code",
   "execution_count": 30,
   "metadata": {
    "colab": {
     "base_uri": "https://localhost:8080/"
    },
    "executionInfo": {
     "elapsed": 16473,
     "status": "ok",
     "timestamp": 1648114288517,
     "user": {
      "displayName": "Василий Кузьмин",
      "photoUrl": "https://lh3.googleusercontent.com/a/default-user=s64",
      "userId": "02945525003160478585"
     },
     "user_tz": -180
    },
    "id": "un_7dF-iZ_Zq",
    "outputId": "44e6028e-df28-4135-efb1-366354d0be21"
   },
   "outputs": [
    {
     "name": "stdout",
     "output_type": "stream",
     "text": [
      "0.9432184978274363\n"
     ]
    }
   ],
   "source": [
    "bagging_classifier_sqrt = ensemble.BaggingClassifier(tree.DecisionTreeClassifier(), 100, bootstrap_features=True)\n",
    "scores_bag_class_sqrt = model_selection.cross_val_score(bagging_classifier_sqrt, X, y, cv=10)\n",
    "print(scores_bag_class_sqrt.mean())"
   ]
  },
  {
   "cell_type": "code",
   "execution_count": 20,
   "metadata": {
    "colab": {
     "base_uri": "https://localhost:8080/"
    },
    "executionInfo": {
     "elapsed": 9368,
     "status": "ok",
     "timestamp": 1648111644639,
     "user": {
      "displayName": "Василий Кузьмин",
      "photoUrl": "https://lh3.googleusercontent.com/a/default-user=s64",
      "userId": "02945525003160478585"
     },
     "user_tz": -180
    },
    "id": "BOGla4DD2hHP",
    "outputId": "3bf68377-6fe6-4677-b53e-0941c6dce2a6"
   },
   "outputs": [
    {
     "name": "stdout",
     "output_type": "stream",
     "text": [
      "0.9599317194289261\n"
     ]
    }
   ],
   "source": [
    "bagging_classifier_rand = ensemble.BaggingClassifier(tree.DecisionTreeClassifier(random_state=1, splitter='random'), 100, bootstrap=False, bootstrap_features=True, random_state=1)\n",
    "scores_bag_class_rand = model_selection.cross_val_score(bagging_classifier_rand, X, y, cv=10)\n",
    "print(scores_bag_class_rand.mean())"
   ]
  },
  {
   "cell_type": "code",
   "execution_count": 23,
   "metadata": {
    "executionInfo": {
     "elapsed": 244,
     "status": "ok",
     "timestamp": 1648111953346,
     "user": {
      "displayName": "Василий Кузьмин",
      "photoUrl": "https://lh3.googleusercontent.com/a/default-user=s64",
      "userId": "02945525003160478585"
     },
     "user_tz": -180
    },
    "id": "hqFIJMug9QJV"
   },
   "outputs": [],
   "source": [
    "def plot_scores(x, y, name):\n",
    "  \n",
    "  plt.grid(True)\n",
    "  plt.plot(x,  y)\n",
    "  plt.xlabel('Parameters')\n",
    "  plt.ylabel('Scores')\n",
    "  plt.title(name)\n"
   ]
  },
  {
   "cell_type": "code",
   "execution_count": 24,
   "metadata": {
    "colab": {
     "base_uri": "https://localhost:8080/",
     "height": 295
    },
    "executionInfo": {
     "elapsed": 73223,
     "status": "ok",
     "timestamp": 1648112028747,
     "user": {
      "displayName": "Василий Кузьмин",
      "photoUrl": "https://lh3.googleusercontent.com/a/default-user=s64",
      "userId": "02945525003160478585"
     },
     "user_tz": -180
    },
    "id": "TIMj9eOQDE5V",
    "outputId": "200d53d3-828b-469b-a870-ea7323fef9e9"
   },
   "outputs": [
    {
     "data": {
      "image/png": "[encoded data removed]",
      "text/plain": [
       "<Figure size 432x288 with 1 Axes>"
      ]
     },
     "metadata": {
      "needs_background": "light"
     },
     "output_type": "display_data"
    }
   ],
   "source": [
    "n_est = np.arange(10, 200, 10)\n",
    "scores_bag_est = []\n",
    "for p in n_est:\n",
    "  rand_forest = ensemble.RandomForestClassifier(n_estimators=p, random_state=1)\n",
    "  scores_bag_est.append(model_selection.cross_val_score(rand_forest, X, y, cv=10).mean())\n",
    "\n",
    "plot_scores(n_est, scores_bag_est, 'n_estimators')"
   ]
  },
  {
   "cell_type": "code",
   "execution_count": 26,
   "metadata": {
    "colab": {
     "base_uri": "https://localhost:8080/",
     "height": 295
    },
    "executionInfo": {
     "elapsed": 232165,
     "status": "ok",
     "timestamp": 1648113277589,
     "user": {
      "displayName": "Василий Кузьмин",
      "photoUrl": "https://lh3.googleusercontent.com/a/default-user=s64",
      "userId": "02945525003160478585"
     },
     "user_tz": -180
    },
    "id": "cP-dw1R8Iw46",
    "outputId": "5c53ebc7-b378-42ff-f0f2-0aba365e223a"
   },
   "outputs": [
    {
     "data": {
      "image/png": "[encoded data removed]",
      "text/plain": [
       "<Figure size 432x288 with 1 Axes>"
      ]
     },
     "metadata": {
      "needs_background": "light"
     },
     "output_type": "display_data"
    }
   ],
   "source": [
    "features = np.arange(1, 60, 2)\n",
    "scores_bag_features = []\n",
    "for p in features:\n",
    "  rand_forest = ensemble.RandomForestClassifier(max_features = p, random_state=1)\n",
    "  scores_bag_features.append(model_selection.cross_val_score(rand_forest, X, y, cv=10).mean())\n",
    "\n",
    "plot_scores(features, scores_bag_features, 'max_features')"
   ]
  },
  {
   "cell_type": "code",
   "execution_count": 28,
   "metadata": {
    "colab": {
     "base_uri": "https://localhost:8080/",
     "height": 295
    },
    "executionInfo": {
     "elapsed": 48761,
     "status": "ok",
     "timestamp": 1648113669590,
     "user": {
      "displayName": "Василий Кузьмин",
      "photoUrl": "https://lh3.googleusercontent.com/a/default-user=s64",
      "userId": "02945525003160478585"
     },
     "user_tz": -180
    },
    "id": "rApyuWxiNcCD",
    "outputId": "94da8458-cc2e-4004-a55d-60aea94428b6"
   },
   "outputs": [
    {
     "data": {
      "image/png": "[encoded data removed]",
      "text/plain": [
       "<Figure size 432x288 with 1 Axes>"
      ]
     },
     "metadata": {
      "needs_background": "light"
     },
     "output_type": "display_data"
    }
   ],
   "source": [
    "depth = np.arange(1, 15, 1)\n",
    "scores_bag_depth = []\n",
    "for p in depth:\n",
    "  rand_forest = ensemble.RandomForestClassifier(max_depth = p, random_state=1)\n",
    "  scores_bag_depth.append(model_selection.cross_val_score(rand_forest, X, y, cv=10).mean())\n",
    "\n",
    "plot_scores(depth, scores_bag_depth, 'max_depth')"
   ]
  }
 ],
 "metadata": {
  "colab": {
   "authorship_tag": "ABX9TyNhH75puFyeQ3bEtx4J9psc",
   "name": "random_forest.ipynb",
   "provenance": []
  },
  "kernelspec": {
   "display_name": "Python 3",
   "language": "python",
   "name": "python3"
  },
  "language_info": {
   "codemirror_mode": {
    "name": "ipython",
    "version": 3
   },
   "file_extension": ".py",
   "mimetype": "text/x-python",
   "name": "python",
   "nbconvert_exporter": "python",
   "pygments_lexer": "ipython3",
   "version": "3.8.8"
  }
 },
 "nbformat": 4,
 "nbformat_minor": 1
}
